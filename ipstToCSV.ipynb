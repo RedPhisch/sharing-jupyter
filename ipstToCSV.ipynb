{
 "cells": [
  {
   "cell_type": "code",
   "execution_count": 2,
   "metadata": {},
   "outputs": [],
   "source": [
    "import csv\n",
    "import sys\n",
    "from datetime import datetime, timedelta\n",
    "import time\n",
    "import pandas as pd\n",
    "import glob\n"
   ]
  },
  {
   "cell_type": "code",
   "execution_count": 3,
   "metadata": {
    "scrolled": false
   },
   "outputs": [
    {
     "name": "stdout",
     "output_type": "stream",
     "text": [
      "['rawfiles_ipst\\\\ASH4CWHW', 'rawfiles_ipst\\\\ASH4CWHWFlow', 'rawfiles_ipst\\\\ASH4HumidifierCurrent', 'rawfiles_ipst\\\\ASH4tempandHumid', 'rawfiles_ipst\\\\ASH4VFDCurrent', 'rawfiles_ipst\\\\ASH5', 'rawfiles_ipst\\\\ASH6CW', 'rawfiles_ipst\\\\ASH6CWFlow', 'rawfiles_ipst\\\\ASH6tempandhumid', 'rawfiles_ipst\\\\ASH6VFDCurrent', 'rawfiles_ipst\\\\PSBuildingActualTempHumid']\n"
     ]
    }
   ],
   "source": [
    "#parse IPST files\n",
    "filelist = glob.glob('rawfiles_ipst/*')\n",
    "print(filelist)"
   ]
  },
  {
   "cell_type": "code",
   "execution_count": 7,
   "metadata": {},
   "outputs": [
    {
     "name": "stdout",
     "output_type": "stream",
     "text": [
      "  ASU #4 HW Coil Supply Temp  [°F] ASU #4 HW Coil Return Temp [°F].1  \\\n",
      "0   Sep 19, 2018 12:00:03 AM  83.8   Sep 19, 2018 12:00:03 AM   79.3   \n",
      "1   Sep 19, 2018 12:00:38 AM    84   Sep 19, 2018 12:00:38 AM   79.5   \n",
      "2   Sep 19, 2018 12:01:14 AM  84.4   Sep 19, 2018 12:01:14 AM   79.2   \n",
      "3   Sep 19, 2018 12:01:49 AM  84.2   Sep 19, 2018 12:02:25 AM   79.5   \n",
      "4   Sep 19, 2018 12:03:00 AM  84.4   Sep 19, 2018 12:05:22 AM   79.3   \n",
      "\n",
      "  ASU #4 CW Coil Supply Temp [°F].2 ASU #4 CW Coil Return Temp [°F].3  \n",
      "0   Sep 19, 2018 12:00:03 AM   49.8   Sep 19, 2018 12:00:03 AM   57.9  \n",
      "1   Sep 19, 2018 12:01:14 AM     50   Sep 19, 2018 12:03:36 AM   57.7  \n",
      "2   Sep 19, 2018 12:01:49 AM   49.6   Sep 19, 2018 12:04:11 AM   58.1  \n",
      "3   Sep 19, 2018 12:02:25 AM   49.8   Sep 19, 2018 12:06:33 AM   57.7  \n",
      "4   Sep 19, 2018 12:03:00 AM     50   Sep 19, 2018 12:07:09 AM   57.9  \n",
      "  IL2B64:FlowMeterDB.AS04_MC01_3501FT  [GPM]  \\\n",
      "0            Sep 19, 2018 12:00:07 AM    292   \n",
      "1            Sep 19, 2018 12:00:43 AM    294   \n",
      "2            Sep 19, 2018 12:01:18 AM  292.2   \n",
      "3            Sep 19, 2018 12:01:54 AM  292.7   \n",
      "4            Sep 19, 2018 12:02:29 AM  291.1   \n",
      "\n",
      "  IL2B64:FlowMeterDB.AS04_MC01_3511FT [GPM].1  \n",
      "0            Sep 19, 2018 12:01:54 AM     1.9  \n",
      "1            Sep 19, 2018 12:02:29 AM     2.1  \n",
      "2            Sep 19, 2018 12:03:05 AM       2  \n",
      "3            Sep 19, 2018 12:05:27 AM     2.1  \n",
      "4            Sep 19, 2018 12:06:02 AM       2  \n",
      "  ASU #4 Humidifier Pump #1 VFD Current  [A]\n",
      "0              Sep 19, 2018 12:00:03 AM  7.3\n",
      "1              Sep 19, 2018 12:01:14 AM  7.1\n",
      "2              Sep 19, 2018 12:01:49 AM  7.8\n",
      "3              Sep 19, 2018 12:03:00 AM  7.4\n",
      "4              Sep 19, 2018 12:03:36 AM  7.1\n",
      "      ASU #4 Humid PID [SP]   [%]     ASU #4 Humid PID [PV] [%].1  \\\n",
      "0  Sep 22, 2018 10:35:58 AM  67.9  Sep 19, 2018 12:03:00 AM  68.3   \n",
      "1  Sep 22, 2018 10:36:34 AM  67.8  Sep 19, 2018 12:03:36 AM  68.2   \n",
      "2  Sep 22, 2018 10:37:45 AM  67.6  Sep 19, 2018 12:04:11 AM  68.3   \n",
      "3  Sep 22, 2018 10:38:56 AM  67.8  Sep 19, 2018 12:06:33 AM  68.2   \n",
      "4  Sep 22, 2018 10:39:31 AM    68  Sep 19, 2018 12:11:17 AM  68.1   \n",
      "\n",
      "      ASU #4 Temp PID [SP] [°F]      ASU #4 Temp PID [PV] [°F].1  \n",
      "0  Oct 12, 2018 1:09:09 AM   73  Sep 19, 2018 12:37:19 AM     73  \n",
      "1                      NaN  NaN  Sep 19, 2018 12:37:55 AM   73.1  \n",
      "2                      NaN  NaN  Sep 19, 2018 12:38:30 AM     73  \n",
      "3                      NaN  NaN  Sep 19, 2018 12:39:41 AM   73.1  \n",
      "4                      NaN  NaN  Sep 19, 2018 12:47:23 AM     73  \n",
      "  ASU #4 Supply Fan #1 VFD Current   [A]\n",
      "0         Sep 19, 2018 12:00:03 AM  95.3\n",
      "1         Sep 19, 2018 12:00:38 AM  92.9\n",
      "2         Sep 19, 2018 12:01:14 AM  91.9\n",
      "3         Sep 19, 2018 12:01:49 AM  96.1\n",
      "4         Sep 19, 2018 12:02:25 AM  92.1\n",
      "          Fan VFD   [A]   Humdifier Pump  [B]  HW Supply Temp    [C]  \\\n",
      "0  9/19/2018 0:00  74.2  10/12/2018 1:09    0  9/19/2018 0:00  102.4   \n",
      "1  9/19/2018 0:00  72.2              NaN  NaN  9/19/2018 0:01  102.6   \n",
      "2  9/19/2018 0:01  73.2              NaN  NaN  9/19/2018 0:03  102.4   \n",
      "3  9/19/2018 0:01  71.3              NaN  NaN  9/19/2018 0:04  102.2   \n",
      "4  9/19/2018 0:02  73.9              NaN  NaN  9/19/2018 0:05    102   \n",
      "\n",
      "   HW Return Temp   [D]        CW Valve [E]  ...   CW Return Temp   [G]  \\\n",
      "0  9/19/2018 0:00    95  9/19/2018 0:32  24  ...   9/19/2018 0:29  62.6   \n",
      "1  9/19/2018 0:01  95.2  9/19/2018 0:33  25  ...   9/19/2018 0:30  62.4   \n",
      "2  9/19/2018 0:03    95  9/19/2018 3:01  24  ...   9/19/2018 1:05  62.2   \n",
      "3  9/19/2018 0:04  94.8  9/19/2018 3:01  25  ...   9/19/2018 1:05  62.4   \n",
      "4  9/19/2018 0:05  94.6  9/19/2018 3:03  24  ...   9/19/2018 1:06  62.2   \n",
      "\n",
      "  ASH5 Humidy Set Point   [H] ASH 4 Humidity Actual   [I]  \\\n",
      "0       10/12/2018 1:09    68        9/19/2018 0:01    68   \n",
      "1      10/12/2018 12:54  62.9        9/19/2018 0:03  67.9   \n",
      "2      10/12/2018 12:55  62.7        9/19/2018 0:07  67.8   \n",
      "3      10/12/2018 12:56  62.9        9/19/2018 0:10  67.9   \n",
      "4      10/12/2018 12:57  62.7        9/19/2018 0:11    68   \n",
      "\n",
      "  ASH 4 Temp Set Point  [J] ASH 4 Temp Actual   [K]  \n",
      "0      10/12/2018 1:09   73    9/19/2018 0:01  73.1  \n",
      "1                  NaN  NaN    9/19/2018 0:16  73.2  \n",
      "2                  NaN  NaN    9/19/2018 0:23  73.1  \n",
      "3                  NaN  NaN    9/19/2018 0:27  73.2  \n",
      "4                  NaN  NaN    9/19/2018 0:36  73.1  \n",
      "\n",
      "[5 rows x 22 columns]\n",
      "  RFH #6 CW Coil Supply Temp  [°F] RFH #6 CW Coil Return Temp [°F].1\n",
      "0   Sep 19, 2018 12:00:03 AM    59   Sep 19, 2018 12:01:14 AM   66.6\n",
      "1   Sep 19, 2018 12:01:14 AM  59.2   Sep 19, 2018 12:01:49 AM   66.4\n",
      "2   Sep 19, 2018 12:01:49 AM  58.8   Sep 19, 2018 12:03:00 AM   66.6\n",
      "3   Sep 19, 2018 12:02:25 AM    59   Sep 19, 2018 12:03:36 AM   66.4\n",
      "4   Sep 19, 2018 12:03:00 AM  59.2   Sep 19, 2018 12:04:11 AM   66.6\n",
      "  IL2B64:FlowMeterDB.AS06_MC01_3501FT [GPM]\n",
      "0            Sep 19, 2018 12:00:07 AM  41.7\n",
      "1            Sep 19, 2018 12:00:43 AM  41.8\n",
      "2            Sep 19, 2018 12:01:18 AM    42\n",
      "3            Sep 19, 2018 12:01:54 AM  41.9\n",
      "4            Sep 19, 2018 12:02:29 AM  41.6\n",
      "     ASU #6 Press PID [CV]  [%]     ASU #6 Temp PID [SP] [°F]  \\\n",
      "0  Oct 12, 2018 1:09:09 AM   35  Oct 12, 2018 1:09:09 AM   73   \n",
      "1                      NaN  NaN                      NaN  NaN   \n",
      "2                      NaN  NaN                      NaN  NaN   \n",
      "3                      NaN  NaN                      NaN  NaN   \n",
      "4                      NaN  NaN                      NaN  NaN   \n",
      "\n",
      "       ASU #6 Temp PID [PV] [°F].1      ASU #6 Temp PID [CV] [%].1  \n",
      "0  Sep 19, 2018 12:44:25 AM   73.6  Sep 19, 2018 12:02:25 AM    99  \n",
      "1  Sep 19, 2018 12:58:37 AM   73.5  Sep 19, 2018 12:03:00 AM   100  \n",
      "2   Sep 19, 2018 1:07:30 AM   73.4  Sep 19, 2018 12:47:58 AM    99  \n",
      "3   Sep 19, 2018 1:24:04 AM   73.3  Sep 19, 2018 12:48:34 AM   100  \n",
      "4   Sep 19, 2018 1:24:39 AM   73.4  Sep 19, 2018 12:51:31 AM    99  \n",
      "  RFH #6 Supply Fan #1 VFD Current   [A]\n",
      "0         Sep 19, 2018 12:00:03 AM  71.6\n",
      "1         Sep 19, 2018 12:00:38 AM  73.8\n",
      "2         Sep 19, 2018 12:01:14 AM  71.4\n",
      "3         Sep 19, 2018 12:01:49 AM  71.6\n",
      "4         Sep 19, 2018 12:03:00 AM  72.5\n",
      "                   T1765805 V1765805                  T1765812 V1765812\n",
      "0  Sep 19, 2018 12:00:24 AM     69.8  Sep 19, 2018 12:00:24 AM     90.2\n",
      "1  Sep 19, 2018 12:01:00 AM     69.9  Sep 19, 2018 12:01:00 AM     90.3\n",
      "2  Sep 19, 2018 12:02:46 AM       70  Sep 19, 2018 12:01:35 AM     90.1\n",
      "3  Sep 19, 2018 12:03:57 AM     70.1  Sep 19, 2018 12:03:22 AM     90.4\n",
      "4  Sep 19, 2018 12:05:08 AM       70  Sep 19, 2018 12:03:57 AM     90.2\n"
     ]
    }
   ],
   "source": [
    "#preview files\n",
    "for previewfile in filelist:\n",
    "    dfpreview = pd.read_csv(previewfile, dtype = 'unicode')\n",
    "    print(dfpreview.head(5))"
   ]
  },
  {
   "cell_type": "code",
   "execution_count": 8,
   "metadata": {
    "collapsed": true
   },
   "outputs": [],
   "source": [
    "for file in filelist:\n",
    "    df1 = pd.read_csv(file, dtype = 'unicode')\n",
    "    resultdf = pd.DataFrame()\n",
    "    dfcols = df1.columns.tolist()\n",
    "    numcols = len(dfcols)\n",
    "    colcounter=0\n",
    "    while colcounter < numcols:\n",
    "    #df1[dfcols[0],dfcols[1]].to_csv(r\"test1\", index=False)\n",
    "        df1[[dfcols[colcounter],dfcols[colcounter+1]]].to_csv('formattedfiles/'+str(dfcols[colcounter])+str(dfcols[colcounter+1]), index=False)\n",
    "        colcounter+=2\n",
    "#df1.head(5)\n"
   ]
  },
  {
   "cell_type": "code",
   "execution_count": null,
   "metadata": {
    "collapsed": true
   },
   "outputs": [],
   "source": []
  }
 ],
 "metadata": {
  "kernelspec": {
   "display_name": "Python 3",
   "language": "python",
   "name": "python3"
  },
  "language_info": {
   "codemirror_mode": {
    "name": "ipython",
    "version": 3
   },
   "file_extension": ".py",
   "mimetype": "text/x-python",
   "name": "python",
   "nbconvert_exporter": "python",
   "pygments_lexer": "ipython3",
   "version": "3.7.0"
  }
 },
 "nbformat": 4,
 "nbformat_minor": 2
}
