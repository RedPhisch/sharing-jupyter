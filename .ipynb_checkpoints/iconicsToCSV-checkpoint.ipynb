{
 "cells": [
  {
   "cell_type": "code",
   "execution_count": 1,
   "metadata": {},
   "outputs": [],
   "source": [
    "import csv\n",
    "import sys\n",
    "from datetime import datetime, timedelta\n",
    "import time\n",
    "import pandas as pd\n",
    "import glob\n",
    "import re\n"
   ]
  },
  {
   "cell_type": "code",
   "execution_count": 2,
   "metadata": {
    "scrolled": false
   },
   "outputs": [
    {
     "name": "stdout",
     "output_type": "stream",
     "text": [
      "['rawfiles_iconics\\\\OutdoorEnthalpy_20180919_20181019', 'rawfiles_iconics\\\\OutdoorTempDryBulb_20180919_20181019', 'rawfiles_iconics\\\\OutdoorTempWetBulb_20180919_20181019', 'rawfiles_iconics\\\\OutsideHumidity_20180919_20181019']\n"
     ]
    }
   ],
   "source": [
    "#parse Iconics files\n",
    "filelist = glob.glob('rawfiles_iconics/*')\n",
    "print(filelist)"
   ]
  },
  {
   "cell_type": "code",
   "execution_count": 3,
   "metadata": {},
   "outputs": [
    {
     "name": "stdout",
     "output_type": "stream",
     "text": [
      "                                     PointName       Value  \\\n",
      "0  ac:BMW/10_10/AH/FP521/AB01/AH22/OA_ENTHALPY  32.9008255   \n",
      "1  ac:BMW/10_10/AH/FP521/AB01/AH22/OA_ENTHALPY  32.8711472   \n",
      "2  ac:BMW/10_10/AH/FP521/AB01/AH22/OA_ENTHALPY    32.53947   \n",
      "3  ac:BMW/10_10/AH/FP521/AB01/AH22/OA_ENTHALPY  33.2951736   \n",
      "4  ac:BMW/10_10/AH/FP521/AB01/AH22/OA_ENTHALPY  32.8057175   \n",
      "\n",
      "                   Timestamp Quality  \n",
      "0  2018-09-19T18:30:00+00:00       0  \n",
      "1  2018-09-19T19:00:00+00:00       0  \n",
      "2  2018-09-19T19:30:00+00:00       0  \n",
      "3  2018-09-19T20:00:00+00:00       0  \n",
      "4  2018-09-19T20:30:00+00:00       0  \n",
      "                                  PointName   Value  \\\n",
      "0  ac:BMW/10_10/NULL/NULL/NULL/NULL/TE00/PV  87.575   \n",
      "1  ac:BMW/10_10/NULL/NULL/NULL/NULL/TE00/PV     NaN   \n",
      "2  ac:BMW/10_10/NULL/NULL/NULL/NULL/TE00/PV  87.575   \n",
      "3  ac:BMW/10_10/NULL/NULL/NULL/NULL/TE00/PV   86.25   \n",
      "4  ac:BMW/10_10/NULL/NULL/NULL/NULL/TE00/PV   86.95   \n",
      "\n",
      "                       Timestamp     Quality  \n",
      "0  2018-09-19T18:28:19.717+00:00           0  \n",
      "1  2018-09-19T18:28:27.655+00:00  2147483696  \n",
      "2      2018-09-19T18:30:00+00:00           0  \n",
      "3      2018-09-19T19:00:00+00:00           0  \n",
      "4      2018-09-19T19:30:00+00:00           0  \n",
      "                                  PointName       Value  \\\n",
      "0  ac:BMW/10_10/NULL/NULL/NULL/NULL/TE01/PV  69.8855743   \n",
      "1  ac:BMW/10_10/NULL/NULL/NULL/NULL/TE01/PV    68.77349   \n",
      "2  ac:BMW/10_10/NULL/NULL/NULL/NULL/TE01/PV  69.4333649   \n",
      "3  ac:BMW/10_10/NULL/NULL/NULL/NULL/TE01/PV     70.2478   \n",
      "4  ac:BMW/10_10/NULL/NULL/NULL/NULL/TE01/PV    70.01544   \n",
      "\n",
      "                   Timestamp Quality  \n",
      "0  2018-09-19T18:30:00+00:00       0  \n",
      "1  2018-09-19T19:00:00+00:00       0  \n",
      "2  2018-09-19T19:30:00+00:00       0  \n",
      "3  2018-09-19T20:00:00+00:00       0  \n",
      "4  2018-09-19T20:30:00+00:00       0  \n",
      "                                     PointName       Value  \\\n",
      "0  ac:BMW/10_10/AH/FP521/AB01/AH22/OA_HUMIDITY      43.275   \n",
      "1  ac:BMW/10_10/AH/FP521/AB01/AH22/OA_HUMIDITY  43.1687546   \n",
      "2  ac:BMW/10_10/AH/FP521/AB01/AH22/OA_HUMIDITY      43.375   \n",
      "3  ac:BMW/10_10/AH/FP521/AB01/AH22/OA_HUMIDITY  43.1687546   \n",
      "4  ac:BMW/10_10/AH/FP521/AB01/AH22/OA_HUMIDITY     42.9625   \n",
      "\n",
      "                   Timestamp Quality  \n",
      "0  2018-09-19T18:30:00+00:00       0  \n",
      "1  2018-09-19T19:00:00+00:00       0  \n",
      "2  2018-09-19T19:30:00+00:00       0  \n",
      "3  2018-09-19T20:00:00+00:00       0  \n",
      "4  2018-09-19T20:30:00+00:00       0  \n"
     ]
    }
   ],
   "source": [
    "#preview files\n",
    "for previewfile in filelist:\n",
    "    dfpreview = pd.read_csv(previewfile, dtype = 'unicode')\n",
    "    print(dfpreview.head(5))"
   ]
  },
  {
   "cell_type": "code",
   "execution_count": 29,
   "metadata": {},
   "outputs": [
    {
     "ename": "FileNotFoundError",
     "evalue": "[Errno 2] No such file or directory: 'formattedfiles/rawfiles_iconics\\\\OutdoorEnthalpy_20180919_20181019Formatted'",
     "output_type": "error",
     "traceback": [
      "\u001b[1;31m---------------------------------------------------------------------------\u001b[0m",
      "\u001b[1;31mFileNotFoundError\u001b[0m                         Traceback (most recent call last)",
      "\u001b[1;32m<ipython-input-29-bc84a35336ad>\u001b[0m in \u001b[0;36m<module>\u001b[1;34m\u001b[0m\n\u001b[0;32m      4\u001b[0m     \u001b[0mdfcols\u001b[0m \u001b[1;33m=\u001b[0m \u001b[0mdf1\u001b[0m\u001b[1;33m.\u001b[0m\u001b[0mcolumns\u001b[0m\u001b[1;33m.\u001b[0m\u001b[0mtolist\u001b[0m\u001b[1;33m(\u001b[0m\u001b[1;33m)\u001b[0m\u001b[1;33m\u001b[0m\u001b[0m\n\u001b[0;32m      5\u001b[0m     \u001b[0mnumcols\u001b[0m \u001b[1;33m=\u001b[0m \u001b[0mlen\u001b[0m\u001b[1;33m(\u001b[0m\u001b[0mdfcols\u001b[0m\u001b[1;33m)\u001b[0m\u001b[1;33m\u001b[0m\u001b[0m\n\u001b[1;32m----> 6\u001b[1;33m     \u001b[0mdf1\u001b[0m\u001b[1;33m[\u001b[0m\u001b[1;33m[\u001b[0m\u001b[0mdfcols\u001b[0m\u001b[1;33m[\u001b[0m\u001b[1;36m2\u001b[0m\u001b[1;33m]\u001b[0m\u001b[1;33m,\u001b[0m\u001b[0mdfcols\u001b[0m\u001b[1;33m[\u001b[0m\u001b[1;36m1\u001b[0m\u001b[1;33m]\u001b[0m\u001b[1;33m]\u001b[0m\u001b[1;33m]\u001b[0m\u001b[1;33m.\u001b[0m\u001b[0mto_csv\u001b[0m\u001b[1;33m(\u001b[0m\u001b[1;34m'formattedfiles/'\u001b[0m\u001b[1;33m+\u001b[0m \u001b[0mfile\u001b[0m \u001b[1;33m+\u001b[0m \u001b[1;34m'Formatted'\u001b[0m\u001b[1;33m)\u001b[0m\u001b[1;33m\u001b[0m\u001b[0m\n\u001b[0m",
      "\u001b[1;32mc:\\users\\q419563\\appdata\\local\\programs\\python\\python37-32\\lib\\site-packages\\pandas\\core\\frame.py\u001b[0m in \u001b[0;36mto_csv\u001b[1;34m(self, path_or_buf, sep, na_rep, float_format, columns, header, index, index_label, mode, encoding, compression, quoting, quotechar, line_terminator, chunksize, tupleize_cols, date_format, doublequote, escapechar, decimal)\u001b[0m\n\u001b[0;32m   1743\u001b[0m                                  \u001b[0mdoublequote\u001b[0m\u001b[1;33m=\u001b[0m\u001b[0mdoublequote\u001b[0m\u001b[1;33m,\u001b[0m\u001b[1;33m\u001b[0m\u001b[0m\n\u001b[0;32m   1744\u001b[0m                                  escapechar=escapechar, decimal=decimal)\n\u001b[1;32m-> 1745\u001b[1;33m         \u001b[0mformatter\u001b[0m\u001b[1;33m.\u001b[0m\u001b[0msave\u001b[0m\u001b[1;33m(\u001b[0m\u001b[1;33m)\u001b[0m\u001b[1;33m\u001b[0m\u001b[0m\n\u001b[0m\u001b[0;32m   1746\u001b[0m \u001b[1;33m\u001b[0m\u001b[0m\n\u001b[0;32m   1747\u001b[0m         \u001b[1;32mif\u001b[0m \u001b[0mpath_or_buf\u001b[0m \u001b[1;32mis\u001b[0m \u001b[1;32mNone\u001b[0m\u001b[1;33m:\u001b[0m\u001b[1;33m\u001b[0m\u001b[0m\n",
      "\u001b[1;32mc:\\users\\q419563\\appdata\\local\\programs\\python\\python37-32\\lib\\site-packages\\pandas\\io\\formats\\csvs.py\u001b[0m in \u001b[0;36msave\u001b[1;34m(self)\u001b[0m\n\u001b[0;32m    154\u001b[0m             f, handles = _get_handle(self.path_or_buf, self.mode,\n\u001b[0;32m    155\u001b[0m                                      \u001b[0mencoding\u001b[0m\u001b[1;33m=\u001b[0m\u001b[0mencoding\u001b[0m\u001b[1;33m,\u001b[0m\u001b[1;33m\u001b[0m\u001b[0m\n\u001b[1;32m--> 156\u001b[1;33m                                      compression=self.compression)\n\u001b[0m\u001b[0;32m    157\u001b[0m             \u001b[0mclose\u001b[0m \u001b[1;33m=\u001b[0m \u001b[1;32mTrue\u001b[0m\u001b[1;33m\u001b[0m\u001b[0m\n\u001b[0;32m    158\u001b[0m \u001b[1;33m\u001b[0m\u001b[0m\n",
      "\u001b[1;32mc:\\users\\q419563\\appdata\\local\\programs\\python\\python37-32\\lib\\site-packages\\pandas\\io\\common.py\u001b[0m in \u001b[0;36m_get_handle\u001b[1;34m(path_or_buf, mode, encoding, compression, memory_map, is_text)\u001b[0m\n\u001b[0;32m    398\u001b[0m         \u001b[1;32melif\u001b[0m \u001b[0mencoding\u001b[0m\u001b[1;33m:\u001b[0m\u001b[1;33m\u001b[0m\u001b[0m\n\u001b[0;32m    399\u001b[0m             \u001b[1;31m# Python 3 and encoding\u001b[0m\u001b[1;33m\u001b[0m\u001b[1;33m\u001b[0m\u001b[0m\n\u001b[1;32m--> 400\u001b[1;33m             \u001b[0mf\u001b[0m \u001b[1;33m=\u001b[0m \u001b[0mopen\u001b[0m\u001b[1;33m(\u001b[0m\u001b[0mpath_or_buf\u001b[0m\u001b[1;33m,\u001b[0m \u001b[0mmode\u001b[0m\u001b[1;33m,\u001b[0m \u001b[0mencoding\u001b[0m\u001b[1;33m=\u001b[0m\u001b[0mencoding\u001b[0m\u001b[1;33m)\u001b[0m\u001b[1;33m\u001b[0m\u001b[0m\n\u001b[0m\u001b[0;32m    401\u001b[0m         \u001b[1;32melif\u001b[0m \u001b[0mis_text\u001b[0m\u001b[1;33m:\u001b[0m\u001b[1;33m\u001b[0m\u001b[0m\n\u001b[0;32m    402\u001b[0m             \u001b[1;31m# Python 3 and no explicit encoding\u001b[0m\u001b[1;33m\u001b[0m\u001b[1;33m\u001b[0m\u001b[0m\n",
      "\u001b[1;31mFileNotFoundError\u001b[0m: [Errno 2] No such file or directory: 'formattedfiles/rawfiles_iconics\\\\OutdoorEnthalpy_20180919_20181019Formatted'"
     ]
    }
   ],
   "source": [
    "for file in filelist:\n",
    "    df1 = pd.read_csv(file, dtype = 'unicode')\n",
    "    resultdf = pd.DataFrame()\n",
    "    dfcols = df1.columns.tolist()\n",
    "    numcols = len(dfcols)\n",
    "    df1[[dfcols[2],dfcols[1]]].to_csv('formattedfiles/'+ str(file.replace(\"rawfiles_iconics\\\\\", \"/\")) + 'Formatted')\n"
   ]
  },
  {
   "cell_type": "code",
   "execution_count": null,
   "metadata": {},
   "outputs": [],
   "source": []
  },
  {
   "cell_type": "code",
   "execution_count": null,
   "metadata": {},
   "outputs": [],
   "source": []
  }
 ],
 "metadata": {
  "kernelspec": {
   "display_name": "Python 3",
   "language": "python",
   "name": "python3"
  },
  "language_info": {
   "codemirror_mode": {
    "name": "ipython",
    "version": 3
   },
   "file_extension": ".py",
   "mimetype": "text/x-python",
   "name": "python",
   "nbconvert_exporter": "python",
   "pygments_lexer": "ipython3",
   "version": "3.7.0"
  }
 },
 "nbformat": 4,
 "nbformat_minor": 2
}
