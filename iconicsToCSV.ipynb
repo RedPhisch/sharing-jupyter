{
 "cells": [
  {
   "cell_type": "code",
   "execution_count": 21,
   "metadata": {
    "collapsed": true
   },
   "outputs": [],
   "source": [
    "import csv\n",
    "import sys\n",
    "from datetime import datetime, timedelta\n",
    "import time\n",
    "import pandas as pd\n",
    "import glob\n",
    "import re\n"
   ]
  },
  {
   "cell_type": "code",
   "execution_count": 22,
   "metadata": {
    "scrolled": false
   },
   "outputs": [
    {
     "name": "stdout",
     "output_type": "stream",
     "text": [
      "['rawfiles_iconics\\\\OutdoorEnthalpy_20180919_20181019', 'rawfiles_iconics\\\\OutdoorTempDryBulb_20180919_20181019', 'rawfiles_iconics\\\\OutdoorTempWetBulb_20180919_20181019', 'rawfiles_iconics\\\\OutsideHumidity_20180919_20181019']\n"
     ]
    }
   ],
   "source": [
    "#parse Iconics files\n",
    "filelist = glob.glob('rawfiles_iconics/*')\n",
    "print(filelist)"
   ]
  },
  {
   "cell_type": "code",
   "execution_count": null,
   "metadata": {
    "collapsed": true
   },
   "outputs": [],
   "source": []
  },
  {
   "cell_type": "code",
   "execution_count": 23,
   "metadata": {},
   "outputs": [
    {
     "name": "stdout",
     "output_type": "stream",
     "text": [
      "                                                             PointName  \\\n",
      "Timestamp                                                                \n",
      "2018-09-19T18:30:00+00:00  ac:BMW/10_10/AH/FP521/AB01/AH22/OA_ENTHALPY   \n",
      "2018-09-19T19:00:00+00:00  ac:BMW/10_10/AH/FP521/AB01/AH22/OA_ENTHALPY   \n",
      "2018-09-19T19:30:00+00:00  ac:BMW/10_10/AH/FP521/AB01/AH22/OA_ENTHALPY   \n",
      "2018-09-19T20:00:00+00:00  ac:BMW/10_10/AH/FP521/AB01/AH22/OA_ENTHALPY   \n",
      "2018-09-19T20:30:00+00:00  ac:BMW/10_10/AH/FP521/AB01/AH22/OA_ENTHALPY   \n",
      "\n",
      "                                Value Quality  \n",
      "Timestamp                                      \n",
      "2018-09-19T18:30:00+00:00  32.9008255       0  \n",
      "2018-09-19T19:00:00+00:00  32.8711472       0  \n",
      "2018-09-19T19:30:00+00:00    32.53947       0  \n",
      "2018-09-19T20:00:00+00:00  33.2951736       0  \n",
      "2018-09-19T20:30:00+00:00  32.8057175       0  \n",
      "                                                              PointName  \\\n",
      "Timestamp                                                                 \n",
      "2018-09-19T18:28:19.717+00:00  ac:BMW/10_10/NULL/NULL/NULL/NULL/TE00/PV   \n",
      "2018-09-19T18:28:27.655+00:00  ac:BMW/10_10/NULL/NULL/NULL/NULL/TE00/PV   \n",
      "2018-09-19T18:30:00+00:00      ac:BMW/10_10/NULL/NULL/NULL/NULL/TE00/PV   \n",
      "2018-09-19T19:00:00+00:00      ac:BMW/10_10/NULL/NULL/NULL/NULL/TE00/PV   \n",
      "2018-09-19T19:30:00+00:00      ac:BMW/10_10/NULL/NULL/NULL/NULL/TE00/PV   \n",
      "\n",
      "                                Value     Quality  \n",
      "Timestamp                                          \n",
      "2018-09-19T18:28:19.717+00:00  87.575           0  \n",
      "2018-09-19T18:28:27.655+00:00    null  2147483696  \n",
      "2018-09-19T18:30:00+00:00      87.575           0  \n",
      "2018-09-19T19:00:00+00:00       86.25           0  \n",
      "2018-09-19T19:30:00+00:00       86.95           0  \n",
      "                                                          PointName  \\\n",
      "Timestamp                                                             \n",
      "2018-09-19T18:30:00+00:00  ac:BMW/10_10/NULL/NULL/NULL/NULL/TE01/PV   \n",
      "2018-09-19T19:00:00+00:00  ac:BMW/10_10/NULL/NULL/NULL/NULL/TE01/PV   \n",
      "2018-09-19T19:30:00+00:00  ac:BMW/10_10/NULL/NULL/NULL/NULL/TE01/PV   \n",
      "2018-09-19T20:00:00+00:00  ac:BMW/10_10/NULL/NULL/NULL/NULL/TE01/PV   \n",
      "2018-09-19T20:30:00+00:00  ac:BMW/10_10/NULL/NULL/NULL/NULL/TE01/PV   \n",
      "\n",
      "                                Value Quality  \n",
      "Timestamp                                      \n",
      "2018-09-19T18:30:00+00:00  69.8855743       0  \n",
      "2018-09-19T19:00:00+00:00    68.77349       0  \n",
      "2018-09-19T19:30:00+00:00  69.4333649       0  \n",
      "2018-09-19T20:00:00+00:00     70.2478       0  \n",
      "2018-09-19T20:30:00+00:00    70.01544       0  \n",
      "                                                             PointName  \\\n",
      "Timestamp                                                                \n",
      "2018-09-19T18:30:00+00:00  ac:BMW/10_10/AH/FP521/AB01/AH22/OA_HUMIDITY   \n",
      "2018-09-19T19:00:00+00:00  ac:BMW/10_10/AH/FP521/AB01/AH22/OA_HUMIDITY   \n",
      "2018-09-19T19:30:00+00:00  ac:BMW/10_10/AH/FP521/AB01/AH22/OA_HUMIDITY   \n",
      "2018-09-19T20:00:00+00:00  ac:BMW/10_10/AH/FP521/AB01/AH22/OA_HUMIDITY   \n",
      "2018-09-19T20:30:00+00:00  ac:BMW/10_10/AH/FP521/AB01/AH22/OA_HUMIDITY   \n",
      "\n",
      "                                Value Quality  \n",
      "Timestamp                                      \n",
      "2018-09-19T18:30:00+00:00      43.275       0  \n",
      "2018-09-19T19:00:00+00:00  43.1687546       0  \n",
      "2018-09-19T19:30:00+00:00      43.375       0  \n",
      "2018-09-19T20:00:00+00:00  43.1687546       0  \n",
      "2018-09-19T20:30:00+00:00     42.9625       0  \n"
     ]
    }
   ],
   "source": [
    "#preview files\n",
    "for previewfile in filelist:\n",
    "    dfpreview = pd.read_csv(previewfile, dtype = 'unicode', index_col=2)\n",
    "    print(dfpreview.head(5))"
   ]
  },
  {
   "cell_type": "code",
   "execution_count": 43,
   "metadata": {},
   "outputs": [
    {
     "name": "stdout",
     "output_type": "stream",
     "text": [
      "                                                             PointName  \\\n",
      "Timestamp                                                                \n",
      "2018-09-19T18:30:00+00:00  ac:BMW/10_10/AH/FP521/AB01/AH22/OA_ENTHALPY   \n",
      "2018-09-19T19:00:00+00:00  ac:BMW/10_10/AH/FP521/AB01/AH22/OA_ENTHALPY   \n",
      "2018-09-19T19:30:00+00:00  ac:BMW/10_10/AH/FP521/AB01/AH22/OA_ENTHALPY   \n",
      "2018-09-19T20:00:00+00:00  ac:BMW/10_10/AH/FP521/AB01/AH22/OA_ENTHALPY   \n",
      "2018-09-19T20:30:00+00:00  ac:BMW/10_10/AH/FP521/AB01/AH22/OA_ENTHALPY   \n",
      "\n",
      "                                Value Quality  \n",
      "Timestamp                                      \n",
      "2018-09-19T18:30:00+00:00  32.9008255       0  \n",
      "2018-09-19T19:00:00+00:00  32.8711472       0  \n",
      "2018-09-19T19:30:00+00:00    32.53947       0  \n",
      "2018-09-19T20:00:00+00:00  33.2951736       0  \n",
      "2018-09-19T20:30:00+00:00  32.8057175       0  \n",
      "                                                              PointName  \\\n",
      "Timestamp                                                                 \n",
      "2018-09-19T18:28:19.717+00:00  ac:BMW/10_10/NULL/NULL/NULL/NULL/TE00/PV   \n",
      "2018-09-19T18:30:00+00:00      ac:BMW/10_10/NULL/NULL/NULL/NULL/TE00/PV   \n",
      "2018-09-19T19:00:00+00:00      ac:BMW/10_10/NULL/NULL/NULL/NULL/TE00/PV   \n",
      "2018-09-19T19:30:00+00:00      ac:BMW/10_10/NULL/NULL/NULL/NULL/TE00/PV   \n",
      "2018-09-19T20:00:00+00:00      ac:BMW/10_10/NULL/NULL/NULL/NULL/TE00/PV   \n",
      "\n",
      "                                 Value Quality  \n",
      "Timestamp                                       \n",
      "2018-09-19T18:28:19.717+00:00   87.575       0  \n",
      "2018-09-19T18:30:00+00:00       87.575       0  \n",
      "2018-09-19T19:00:00+00:00        86.25       0  \n",
      "2018-09-19T19:30:00+00:00        86.95       0  \n",
      "2018-09-19T20:00:00+00:00      87.7625       0  \n",
      "                                                          PointName  \\\n",
      "Timestamp                                                             \n",
      "2018-09-19T18:30:00+00:00  ac:BMW/10_10/NULL/NULL/NULL/NULL/TE01/PV   \n",
      "2018-09-19T19:00:00+00:00  ac:BMW/10_10/NULL/NULL/NULL/NULL/TE01/PV   \n",
      "2018-09-19T19:30:00+00:00  ac:BMW/10_10/NULL/NULL/NULL/NULL/TE01/PV   \n",
      "2018-09-19T20:00:00+00:00  ac:BMW/10_10/NULL/NULL/NULL/NULL/TE01/PV   \n",
      "2018-09-19T20:30:00+00:00  ac:BMW/10_10/NULL/NULL/NULL/NULL/TE01/PV   \n",
      "\n",
      "                                Value Quality  \n",
      "Timestamp                                      \n",
      "2018-09-19T18:30:00+00:00  69.8855743       0  \n",
      "2018-09-19T19:00:00+00:00    68.77349       0  \n",
      "2018-09-19T19:30:00+00:00  69.4333649       0  \n",
      "2018-09-19T20:00:00+00:00     70.2478       0  \n",
      "2018-09-19T20:30:00+00:00    70.01544       0  \n",
      "                                                             PointName  \\\n",
      "Timestamp                                                                \n",
      "2018-09-19T18:30:00+00:00  ac:BMW/10_10/AH/FP521/AB01/AH22/OA_HUMIDITY   \n",
      "2018-09-19T19:00:00+00:00  ac:BMW/10_10/AH/FP521/AB01/AH22/OA_HUMIDITY   \n",
      "2018-09-19T19:30:00+00:00  ac:BMW/10_10/AH/FP521/AB01/AH22/OA_HUMIDITY   \n",
      "2018-09-19T20:00:00+00:00  ac:BMW/10_10/AH/FP521/AB01/AH22/OA_HUMIDITY   \n",
      "2018-09-19T20:30:00+00:00  ac:BMW/10_10/AH/FP521/AB01/AH22/OA_HUMIDITY   \n",
      "\n",
      "                                Value Quality  \n",
      "Timestamp                                      \n",
      "2018-09-19T18:30:00+00:00      43.275       0  \n",
      "2018-09-19T19:00:00+00:00  43.1687546       0  \n",
      "2018-09-19T19:30:00+00:00      43.375       0  \n",
      "2018-09-19T20:00:00+00:00  43.1687546       0  \n",
      "2018-09-19T20:30:00+00:00     42.9625       0  \n"
     ]
    }
   ],
   "source": [
    "for file in filelist:\n",
    "    df1 = pd.read_csv(file, dtype = 'unicode', index_col=2)\n",
    "#    df1 = df1.drop(\"null\")\n",
    "    df1 = df1[~df1.Value.str.contains(\"null\")] \n",
    "    resultdf = pd.DataFrame()\n",
    "    dfcols = df1.columns.tolist()\n",
    "    numcols = len(dfcols)\n",
    "    print(df1.head(5))\n",
    "    df1[[dfcols[1]]].to_csv('formattedfiles/'+ str(file.replace(\"rawfiles_iconics\\\\\", \"/\")) + 'Formatted')\n"
   ]
  },
  {
   "cell_type": "code",
   "execution_count": null,
   "metadata": {
    "collapsed": true
   },
   "outputs": [],
   "source": []
  },
  {
   "cell_type": "code",
   "execution_count": null,
   "metadata": {
    "collapsed": true
   },
   "outputs": [],
   "source": []
  }
 ],
 "metadata": {
  "kernelspec": {
   "display_name": "Python 3",
   "language": "python",
   "name": "python3"
  },
  "language_info": {
   "codemirror_mode": {
    "name": "ipython",
    "version": 3
   },
   "file_extension": ".py",
   "mimetype": "text/x-python",
   "name": "python",
   "nbconvert_exporter": "python",
   "pygments_lexer": "ipython3",
   "version": "3.6.3"
  }
 },
 "nbformat": 4,
 "nbformat_minor": 2
}
