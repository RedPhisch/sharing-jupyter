{
 "cells": [
  {
   "cell_type": "code",
   "execution_count": 1,
   "metadata": {},
   "outputs": [],
   "source": [
    "import csv\n",
    "import sys\n",
    "from datetime import datetime, timedelta\n",
    "import time\n",
    "import pandas as pd\n",
    "import glob\n",
    "import re\n"
   ]
  },
  {
   "cell_type": "code",
   "execution_count": 2,
   "metadata": {
    "scrolled": false
   },
   "outputs": [
    {
     "name": "stdout",
     "output_type": "stream",
     "text": [
      "['rawfiles_iconics\\\\OutdoorEnthalpy_20180919_20181019', 'rawfiles_iconics\\\\OutdoorTempDryBulb_20180919_20181019', 'rawfiles_iconics\\\\OutdoorTempWetBulb_20180919_20181019', 'rawfiles_iconics\\\\OutsideHumidity_20180919_20181019']\n"
     ]
    }
   ],
   "source": [
    "#parse Iconics files\n",
    "filelist = glob.glob('rawfiles_iconics/*')\n",
    "print(filelist)"
   ]
  },
  {
   "cell_type": "code",
   "execution_count": 3,
   "metadata": {},
   "outputs": [
    {
     "name": "stdout",
     "output_type": "stream",
     "text": [
      "                                     PointName       Value  \\\n",
      "0  ac:BMW/10_10/AH/FP521/AB01/AH22/OA_ENTHALPY  32.9008255   \n",
      "1  ac:BMW/10_10/AH/FP521/AB01/AH22/OA_ENTHALPY  32.8711472   \n",
      "2  ac:BMW/10_10/AH/FP521/AB01/AH22/OA_ENTHALPY    32.53947   \n",
      "3  ac:BMW/10_10/AH/FP521/AB01/AH22/OA_ENTHALPY  33.2951736   \n",
      "4  ac:BMW/10_10/AH/FP521/AB01/AH22/OA_ENTHALPY  32.8057175   \n",
      "\n",
      "                   Timestamp Quality  \n",
      "0  2018-09-19T18:30:00+00:00       0  \n",
      "1  2018-09-19T19:00:00+00:00       0  \n",
      "2  2018-09-19T19:30:00+00:00       0  \n",
      "3  2018-09-19T20:00:00+00:00       0  \n",
      "4  2018-09-19T20:30:00+00:00       0  \n",
      "                                  PointName   Value  \\\n",
      "0  ac:BMW/10_10/NULL/NULL/NULL/NULL/TE00/PV  87.575   \n",
      "1  ac:BMW/10_10/NULL/NULL/NULL/NULL/TE00/PV     NaN   \n",
      "2  ac:BMW/10_10/NULL/NULL/NULL/NULL/TE00/PV  87.575   \n",
      "3  ac:BMW/10_10/NULL/NULL/NULL/NULL/TE00/PV   86.25   \n",
      "4  ac:BMW/10_10/NULL/NULL/NULL/NULL/TE00/PV   86.95   \n",
      "\n",
      "                       Timestamp     Quality  \n",
      "0  2018-09-19T18:28:19.717+00:00           0  \n",
      "1  2018-09-19T18:28:27.655+00:00  2147483696  \n",
      "2      2018-09-19T18:30:00+00:00           0  \n",
      "3      2018-09-19T19:00:00+00:00           0  \n",
      "4      2018-09-19T19:30:00+00:00           0  \n",
      "                                  PointName       Value  \\\n",
      "0  ac:BMW/10_10/NULL/NULL/NULL/NULL/TE01/PV  69.8855743   \n",
      "1  ac:BMW/10_10/NULL/NULL/NULL/NULL/TE01/PV    68.77349   \n",
      "2  ac:BMW/10_10/NULL/NULL/NULL/NULL/TE01/PV  69.4333649   \n",
      "3  ac:BMW/10_10/NULL/NULL/NULL/NULL/TE01/PV     70.2478   \n",
      "4  ac:BMW/10_10/NULL/NULL/NULL/NULL/TE01/PV    70.01544   \n",
      "\n",
      "                   Timestamp Quality  \n",
      "0  2018-09-19T18:30:00+00:00       0  \n",
      "1  2018-09-19T19:00:00+00:00       0  \n",
      "2  2018-09-19T19:30:00+00:00       0  \n",
      "3  2018-09-19T20:00:00+00:00       0  \n",
      "4  2018-09-19T20:30:00+00:00       0  \n",
      "                                     PointName       Value  \\\n",
      "0  ac:BMW/10_10/AH/FP521/AB01/AH22/OA_HUMIDITY      43.275   \n",
      "1  ac:BMW/10_10/AH/FP521/AB01/AH22/OA_HUMIDITY  43.1687546   \n",
      "2  ac:BMW/10_10/AH/FP521/AB01/AH22/OA_HUMIDITY      43.375   \n",
      "3  ac:BMW/10_10/AH/FP521/AB01/AH22/OA_HUMIDITY  43.1687546   \n",
      "4  ac:BMW/10_10/AH/FP521/AB01/AH22/OA_HUMIDITY     42.9625   \n",
      "\n",
      "                   Timestamp Quality  \n",
      "0  2018-09-19T18:30:00+00:00       0  \n",
      "1  2018-09-19T19:00:00+00:00       0  \n",
      "2  2018-09-19T19:30:00+00:00       0  \n",
      "3  2018-09-19T20:00:00+00:00       0  \n",
      "4  2018-09-19T20:30:00+00:00       0  \n"
     ]
    }
   ],
   "source": [
    "#preview files\n",
    "for previewfile in filelist:\n",
    "    dfpreview = pd.read_csv(previewfile, dtype = 'unicode')\n",
    "    print(dfpreview.head(5))"
   ]
  },
  {
   "cell_type": "code",
   "execution_count": 30,
   "metadata": {},
   "outputs": [],
   "source": [
    "for file in filelist:\n",
    "    df1 = pd.read_csv(file, dtype = 'unicode')\n",
    "    resultdf = pd.DataFrame()\n",
    "    dfcols = df1.columns.tolist()\n",
    "    numcols = len(dfcols)\n",
    "    df1[[dfcols[2],dfcols[1]]].to_csv('formattedfiles/'+ str(file.replace(\"rawfiles_iconics\\\\\", \"/\")) + 'Formatted')\n"
   ]
  },
  {
   "cell_type": "code",
   "execution_count": null,
   "metadata": {},
   "outputs": [],
   "source": []
  },
  {
   "cell_type": "code",
   "execution_count": null,
   "metadata": {},
   "outputs": [],
   "source": []
  }
 ],
 "metadata": {
  "kernelspec": {
   "display_name": "Python 3",
   "language": "python",
   "name": "python3"
  },
  "language_info": {
   "codemirror_mode": {
    "name": "ipython",
    "version": 3
   },
   "file_extension": ".py",
   "mimetype": "text/x-python",
   "name": "python",
   "nbconvert_exporter": "python",
   "pygments_lexer": "ipython3",
   "version": "3.7.0"
  }
 },
 "nbformat": 4,
 "nbformat_minor": 2
}
