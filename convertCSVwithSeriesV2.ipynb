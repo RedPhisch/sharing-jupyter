{
 "cells": [
  {
   "cell_type": "code",
   "execution_count": 34,
   "metadata": {
    "collapsed": true
   },
   "outputs": [],
   "source": [
    "import csv\n",
    "import sys\n",
    "from datetime import datetime, timedelta\n",
    "import time\n",
    "import pandas as pd\n",
    "from pandas import Series\n",
    "import glob\n"
   ]
  },
  {
   "cell_type": "code",
   "execution_count": 35,
   "metadata": {},
   "outputs": [
    {
     "name": "stdout",
     "output_type": "stream",
     "text": [
      "['formattedfiles\\\\OutdoorEnthalpy_20180919_20181019Formatted', 'formattedfiles\\\\OutdoorTempDryBulb_20180919_20181019Formatted', 'formattedfiles\\\\OutdoorTempWetBulb_20180919_20181019Formatted', 'formattedfiles\\\\OutsideHumidity_20180919_20181019Formatted']\n"
     ]
    }
   ],
   "source": [
    "#parse IPST files\n",
    "filelist = glob.glob('formattedfiles/*')\n",
    "print(filelist)"
   ]
  },
  {
   "cell_type": "code",
   "execution_count": 36,
   "metadata": {
    "collapsed": true
   },
   "outputs": [],
   "source": [
    "\n",
    "#resultseries = pd.Series()"
   ]
  },
  {
   "cell_type": "code",
   "execution_count": 37,
   "metadata": {},
   "outputs": [
    {
     "name": "stdout",
     "output_type": "stream",
     "text": [
      "Processing: formattedfiles\\OutdoorEnthalpy_20180919_20181019Formatted\n",
      "Timestamp\n",
      "2018-09-19 18:30:00    32.900826\n",
      "2018-09-19 19:00:00    32.871147\n",
      "2018-09-19 19:30:00    32.539470\n",
      "2018-09-19 20:00:00    33.295174\n",
      "2018-09-19 20:30:00    32.805718\n",
      "Name: Value, dtype: float64\n",
      "Completed: formattedfiles\\OutdoorEnthalpy_20180919_20181019Formatted\n",
      "Processing: formattedfiles\\OutdoorTempDryBulb_20180919_20181019Formatted\n",
      "Timestamp\n",
      "2018-09-19 18:28:19.717    87.5750\n",
      "2018-09-19 18:30:00.000    87.5750\n",
      "2018-09-19 19:00:00.000    86.2500\n",
      "2018-09-19 19:30:00.000    86.9500\n",
      "2018-09-19 20:00:00.000    87.7625\n",
      "Name: Value, dtype: float64\n",
      "Completed: formattedfiles\\OutdoorTempDryBulb_20180919_20181019Formatted\n",
      "Processing: formattedfiles\\OutdoorTempWetBulb_20180919_20181019Formatted\n",
      "Timestamp\n",
      "2018-09-19 18:30:00    69.885574\n",
      "2018-09-19 19:00:00    68.773490\n",
      "2018-09-19 19:30:00    69.433365\n",
      "2018-09-19 20:00:00    70.247800\n",
      "2018-09-19 20:30:00    70.015440\n",
      "Name: Value, dtype: float64\n",
      "Completed: formattedfiles\\OutdoorTempWetBulb_20180919_20181019Formatted\n",
      "Processing: formattedfiles\\OutsideHumidity_20180919_20181019Formatted\n",
      "Timestamp\n",
      "2018-09-19 18:30:00    43.275000\n",
      "2018-09-19 19:00:00    43.168755\n",
      "2018-09-19 19:30:00    43.375000\n",
      "2018-09-19 20:00:00    43.168755\n",
      "2018-09-19 20:30:00    42.962500\n",
      "Name: Value, dtype: float64\n",
      "Completed: formattedfiles\\OutsideHumidity_20180919_20181019Formatted\n"
     ]
    }
   ],
   "source": [
    "#seriesar = []\n",
    "filecounter = 0\n",
    "for file in filelist:\n",
    "    print('Processing: '+str(file))    \n",
    "    series1=Series.from_csv(file, header=0, parse_dates=[0])\n",
    "    print(series1.head(5))\n",
    "#    series1.columns = ['timestamp',str(file)]\n",
    "#    print('columns'+str(series1.Columns))\n",
    "    print('Completed: '+str(file))\n",
    "    pd.to_numeric(series1)\n",
    "    series2 = series1.resample('1Min').mean()\n",
    "    series3=series2.fillna(method='ffill')\n",
    "    series3.name = str(file)\n",
    "#    seriesar.append(series3)\n",
    "    \n",
    "    if(filecounter == 0):\n",
    "        resultseries = series3\n",
    "    else:\n",
    "        resultseries = pd.concat([previousseries,series3],axis=1)\n",
    "        \n",
    "    previousseries = resultseries\n",
    "    filecounter += 1\n",
    "#    resultseries.name = str(file)\n",
    "    "
   ]
  },
  {
   "cell_type": "code",
   "execution_count": 39,
   "metadata": {},
   "outputs": [
    {
     "name": "stdout",
     "output_type": "stream",
     "text": [
      "                     formattedfiles\\OutdoorEnthalpy_20180919_20181019Formatted  \\\n",
      "Timestamp                                                                        \n",
      "2018-09-19 18:28:00                                                NaN           \n",
      "2018-09-19 18:29:00                                                NaN           \n",
      "2018-09-19 18:30:00                                          32.900826           \n",
      "2018-09-19 18:31:00                                          32.900826           \n",
      "2018-09-19 18:32:00                                          32.900826           \n",
      "\n",
      "                     formattedfiles\\OutdoorTempDryBulb_20180919_20181019Formatted  \\\n",
      "Timestamp                                                                           \n",
      "2018-09-19 18:28:00                                             87.575              \n",
      "2018-09-19 18:29:00                                             87.575              \n",
      "2018-09-19 18:30:00                                             87.575              \n",
      "2018-09-19 18:31:00                                             87.575              \n",
      "2018-09-19 18:32:00                                             87.575              \n",
      "\n",
      "                     formattedfiles\\OutdoorTempWetBulb_20180919_20181019Formatted  \\\n",
      "Timestamp                                                                           \n",
      "2018-09-19 18:28:00                                                NaN              \n",
      "2018-09-19 18:29:00                                                NaN              \n",
      "2018-09-19 18:30:00                                          69.885574              \n",
      "2018-09-19 18:31:00                                          69.885574              \n",
      "2018-09-19 18:32:00                                          69.885574              \n",
      "\n",
      "                     formattedfiles\\OutsideHumidity_20180919_20181019Formatted  \n",
      "Timestamp                                                                       \n",
      "2018-09-19 18:28:00                                                NaN          \n",
      "2018-09-19 18:29:00                                                NaN          \n",
      "2018-09-19 18:30:00                                             43.275          \n",
      "2018-09-19 18:31:00                                             43.275          \n",
      "2018-09-19 18:32:00                                             43.275          \n"
     ]
    }
   ],
   "source": [
    "\n",
    "#resultseries.drop('0', axis=1)\n",
    "print(resultseries.head(5))"
   ]
  },
  {
   "cell_type": "code",
   "execution_count": 40,
   "metadata": {
    "collapsed": true
   },
   "outputs": [],
   "source": [
    "resultseries.to_csv('outputfiles/pythonoutput.txt',encoding='utf-8')"
   ]
  },
  {
   "cell_type": "code",
   "execution_count": null,
   "metadata": {
    "collapsed": true
   },
   "outputs": [],
   "source": []
  },
  {
   "cell_type": "code",
   "execution_count": 6,
   "metadata": {
    "collapsed": true
   },
   "outputs": [],
   "source": []
  },
  {
   "cell_type": "code",
   "execution_count": 7,
   "metadata": {
    "collapsed": true
   },
   "outputs": [],
   "source": []
  },
  {
   "cell_type": "code",
   "execution_count": null,
   "metadata": {
    "collapsed": true
   },
   "outputs": [],
   "source": []
  },
  {
   "cell_type": "code",
   "execution_count": null,
   "metadata": {
    "collapsed": true
   },
   "outputs": [],
   "source": []
  },
  {
   "cell_type": "code",
   "execution_count": null,
   "metadata": {
    "collapsed": true
   },
   "outputs": [],
   "source": []
  },
  {
   "cell_type": "code",
   "execution_count": null,
   "metadata": {
    "collapsed": true
   },
   "outputs": [],
   "source": []
  },
  {
   "cell_type": "code",
   "execution_count": null,
   "metadata": {
    "collapsed": true
   },
   "outputs": [],
   "source": []
  },
  {
   "cell_type": "code",
   "execution_count": null,
   "metadata": {
    "collapsed": true
   },
   "outputs": [],
   "source": []
  },
  {
   "cell_type": "code",
   "execution_count": null,
   "metadata": {
    "collapsed": true
   },
   "outputs": [],
   "source": []
  },
  {
   "cell_type": "code",
   "execution_count": null,
   "metadata": {
    "collapsed": true
   },
   "outputs": [],
   "source": []
  },
  {
   "cell_type": "code",
   "execution_count": null,
   "metadata": {
    "collapsed": true
   },
   "outputs": [],
   "source": []
  },
  {
   "cell_type": "code",
   "execution_count": 13,
   "metadata": {
    "collapsed": true
   },
   "outputs": [],
   "source": []
  },
  {
   "cell_type": "code",
   "execution_count": null,
   "metadata": {
    "collapsed": true
   },
   "outputs": [],
   "source": []
  }
 ],
 "metadata": {
  "kernelspec": {
   "display_name": "Python 3",
   "language": "python",
   "name": "python3"
  },
  "language_info": {
   "codemirror_mode": {
    "name": "ipython",
    "version": 3
   },
   "file_extension": ".py",
   "mimetype": "text/x-python",
   "name": "python",
   "nbconvert_exporter": "python",
   "pygments_lexer": "ipython3",
   "version": "3.6.3"
  }
 },
 "nbformat": 4,
 "nbformat_minor": 2
}
