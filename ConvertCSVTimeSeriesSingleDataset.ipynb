{
 "cells": [
  {
   "cell_type": "code",
   "execution_count": 2,
   "metadata": {
    "collapsed": true
   },
   "outputs": [],
   "source": [
    "#current method isn't working\n",
    "#work on creating a separate list for each timestamp/value pair\n",
    "#then merge lists with merge or union or join - research which will do what is needed."
   ]
  },
  {
   "cell_type": "code",
   "execution_count": 167,
   "metadata": {},
   "outputs": [],
   "source": [
    "import csv\n",
    "import sys\n",
    "from datetime import datetime, timedelta\n",
    "import time\n",
    "import pandas as pd\n"
   ]
  },
  {
   "cell_type": "code",
   "execution_count": 168,
   "metadata": {},
   "outputs": [],
   "source": [
    "#create dataframe with all time values for time period\n",
    "\n",
    "#set time period start and end\n",
    "periodstart = datetime.strptime(\"2018-09-19 00:00:00\",\"%Y-%m-%d %H:%M:%S\")\n",
    "periodend = datetime.strptime(\"2018-10-20 00:00:00\",\"%Y-%m-%d %H:%M:%S\")\n",
    "currenttime = periodstart\n",
    "timelist = []\n",
    "while currenttime < periodend:\n",
    "    timelist.append(currenttime)\n",
    "    currenttime = currenttime + timedelta(minutes = 1)\n"
   ]
  },
  {
   "cell_type": "code",
   "execution_count": 169,
   "metadata": {},
   "outputs": [],
   "source": [
    "df1 = pd.DataFrame({'timestamp':timelist})"
   ]
  },
  {
   "cell_type": "code",
   "execution_count": 170,
   "metadata": {
    "collapsed": true
   },
   "outputs": [],
   "source": [
    "# open input file\n",
    "filename = \"ASH4CWHW2.txt\"\n",
    "ifile=open(filename,\"r\")\n",
    "reader1=csv.reader(ifile)"
   ]
  },
  {
   "cell_type": "code",
   "execution_count": 171,
   "metadata": {
    "collapsed": true
   },
   "outputs": [],
   "source": [
    "#open output file\n",
    "ofile=open('pythonoutput.txt',\"w\")\n",
    "writer1=csv.writer(ofile, delimiter=',',quotechar=\"\\\"\",quoting=csv.QUOTE_ALL)"
   ]
  },
  {
   "cell_type": "code",
   "execution_count": 172,
   "metadata": {},
   "outputs": [],
   "source": [
    "\n",
    "reader1RowNum=0\n",
    "#previousdt1=datetime.now()\n",
    "#previousval1=0\n",
    "#previousdt2=datetime.now()\n",
    "#previousval2=0\n",
    "#create array for dataset contents\n",
    "ds1 = []\n",
    "ds1.append([])\n",
    "ds1.append([])\n",
    "ds2 = []\n",
    "ds2.append([])\n",
    "ds2.append([])\n",
    "\n",
    "headers = []\n",
    "#loop through contents of file\n",
    "for row in reader1:\n",
    "    if reader1RowNum==0: #header row\n",
    "#            header=row\n",
    "        headers.append(row[0])\n",
    "        headers.append(row[1])\n",
    "        headers.append(row[2])\n",
    "        headers.append(row[3])        \n",
    "\n",
    "    else: #not header row\n",
    "        thisdt=row[0]\n",
    "        thisval=row[1]\n",
    "        thisdt2=row[2]\n",
    "        thisval2=row[3]\n",
    "        if(thisdt!=''):\n",
    "            dt=datetime.strptime(thisdt,\"%b %d, %Y %H:%M:%S %p\")\n",
    "            thisdt = dt.replace(second=0, microsecond=0)\n",
    "        if(thisdt2!=''):\n",
    "            dt2=datetime.strptime(thisdt2,\"%b %d, %Y %H:%M:%S %p\")\n",
    "            thisdt2 = dt2.replace(second=0, microsecond=0)\n",
    "#        if(thisval==''):\n",
    "#            thisval=previousval1\n",
    "#        if(thisval2==''):\n",
    "#            thisval2=previousval2\n",
    "        ds1[0].append(thisdt)\n",
    "        ds1[1].append(thisval)\n",
    "        ds2[0].append(thisdt2)\n",
    "        ds2[1].append(thisval2)  \n",
    "#        previousval1=thisval\n",
    "#        previousval2=thisval2\n",
    "    reader1RowNum +=1\n",
    "\n",
    "#    print(thisdt)\n",
    "#    print(thisval)\n",
    "    if reader1RowNum>=50:\n",
    "        break\n",
    "\n",
    "#print(ds1)\n",
    "    \n",
    "\n",
    "#save for reference later\n",
    "\n",
    "#                    outrow.insert(0,outrowdt)\n",
    "#                    outrow.insert(outcolnum,val)\n",
    "#                    writer1.writerow(outrow)"
   ]
  },
  {
   "cell_type": "code",
   "execution_count": 173,
   "metadata": {},
   "outputs": [],
   "source": [
    "df2 = pd.DataFrame({'timestamp':ds1[0],headers[1]:ds1[1]})\n",
    "df3 = pd.DataFrame({'timestamp':ds2[0],headers[3]:ds2[1]})"
   ]
  },
  {
   "cell_type": "code",
   "execution_count": 174,
   "metadata": {},
   "outputs": [],
   "source": [
    "df1.set_index('timestamp', inplace=True)\n",
    "df2.set_index('timestamp', inplace=True)\n",
    "df3.set_index('timestamp', inplace=True)"
   ]
  },
  {
   "cell_type": "code",
   "execution_count": 175,
   "metadata": {},
   "outputs": [],
   "source": [
    "result = df1.join(df2, how='outer').join(df3, how='outer')"
   ]
  },
  {
   "cell_type": "code",
   "execution_count": 176,
   "metadata": {},
   "outputs": [],
   "source": [
    "#print(result)"
   ]
  },
  {
   "cell_type": "code",
   "execution_count": 177,
   "metadata": {},
   "outputs": [],
   "source": [
    "result.to_csv('pythonoutput2.txt',encoding='utf-8')"
   ]
  },
  {
   "cell_type": "code",
   "execution_count": 127,
   "metadata": {
    "collapsed": true
   },
   "outputs": [],
   "source": [
    "ifile.close()\n",
    "ofile.close()"
   ]
  },
  {
   "cell_type": "code",
   "execution_count": null,
   "metadata": {
    "collapsed": true
   },
   "outputs": [],
   "source": []
  }
 ],
 "metadata": {
  "kernelspec": {
   "display_name": "Python 3",
   "language": "python",
   "name": "python3"
  },
  "language_info": {
   "codemirror_mode": {
    "name": "ipython",
    "version": 3
   },
   "file_extension": ".py",
   "mimetype": "text/x-python",
   "name": "python",
   "nbconvert_exporter": "python",
   "pygments_lexer": "ipython3",
   "version": "3.6.3"
  }
 },
 "nbformat": 4,
 "nbformat_minor": 2
}
